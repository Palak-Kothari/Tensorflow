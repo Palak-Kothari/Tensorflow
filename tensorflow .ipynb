{
 "cells": [
  {
   "cell_type": "code",
   "execution_count": 2,
   "id": "0e334e59",
   "metadata": {},
   "outputs": [
    {
     "name": "stdout",
     "output_type": "stream",
     "text": [
      "your tensorflow version: 2.7.0\n"
     ]
    }
   ],
   "source": [
    "import tensorflow as tf\n",
    "print(('your tensorflow version: {0}').format(tf.__version__))"
   ]
  },
  {
   "cell_type": "code",
   "execution_count": 20,
   "id": "00678e11",
   "metadata": {},
   "outputs": [
    {
     "data": {
      "text/plain": [
       "<tf.Tensor: shape=(2, 2), dtype=int32, numpy=\n",
       "array([[4, 3],\n",
       "       [6, 1]], dtype=int32)>"
      ]
     },
     "execution_count": 20,
     "metadata": {},
     "output_type": "execute_result"
    }
   ],
   "source": [
    "A= tf.constant([[4,3],\n",
    "                [6,1]])\n",
    "A"
   ]
  },
  {
   "cell_type": "code",
   "execution_count": 4,
   "id": "34cdcf6b",
   "metadata": {},
   "outputs": [
    {
     "data": {
      "text/plain": [
       "<tf.Tensor: shape=(2, 2), dtype=int32, numpy=\n",
       "array([[7, 8],\n",
       "       [4, 5]], dtype=int32)>"
      ]
     },
     "execution_count": 4,
     "metadata": {},
     "output_type": "execute_result"
    }
   ],
   "source": [
    "V= tf.Variable([[3,1],\n",
    "                [5,2]])\n",
    "B= tf.constant([[7,8],\n",
    "               [4,5]])\n",
    "V\n",
    "B"
   ]
  },
  {
   "cell_type": "code",
   "execution_count": 5,
   "id": "1b92a854",
   "metadata": {},
   "outputs": [
    {
     "name": "stdout",
     "output_type": "stream",
     "text": [
      "<tf.Variable 'Variable:0' shape=(2, 2) dtype=int32, numpy=\n",
      "array([[3, 1],\n",
      "       [5, 2]], dtype=int32)>\n"
     ]
    },
    {
     "data": {
      "text/plain": [
       "<tf.Tensor: shape=(2, 2), dtype=int32, numpy=\n",
       "array([[7, 8],\n",
       "       [4, 5]], dtype=int32)>"
      ]
     },
     "execution_count": 5,
     "metadata": {},
     "output_type": "execute_result"
    }
   ],
   "source": [
    "V= tf.Variable([[3,1],\n",
    "                [5,2]])\n",
    "B= tf.constant([[7,8],\n",
    "               [4,5]])\n",
    "print(V)\n",
    "B"
   ]
  },
  {
   "cell_type": "code",
   "execution_count": 6,
   "id": "ad3373a1",
   "metadata": {},
   "outputs": [
    {
     "data": {
      "text/plain": [
       "<tf.Tensor: shape=(2, 4), dtype=int32, numpy=\n",
       "array([[4, 3, 7, 8],\n",
       "       [6, 1, 4, 5]], dtype=int32)>"
      ]
     },
     "execution_count": 6,
     "metadata": {},
     "output_type": "execute_result"
    }
   ],
   "source": [
    "AB_concatenated= tf.concat(values=[A,B],axis=1) #axis=1 means concatenate horizontally\n",
    "AB_concatenated\n"
   ]
  },
  {
   "cell_type": "code",
   "execution_count": 7,
   "id": "ec7da399",
   "metadata": {},
   "outputs": [
    {
     "data": {
      "text/plain": [
       "<tf.Tensor: shape=(4, 2), dtype=int32, numpy=\n",
       "array([[4, 3],\n",
       "       [6, 1],\n",
       "       [7, 8],\n",
       "       [4, 5]], dtype=int32)>"
      ]
     },
     "execution_count": 7,
     "metadata": {},
     "output_type": "execute_result"
    }
   ],
   "source": [
    "AB_concatenated= tf.concat(values=[A,B],axis=0) #axis=0 means bring all the columns down as rows \n",
    "AB_concatenated"
   ]
  },
  {
   "cell_type": "code",
   "execution_count": 10,
   "id": "df80d00c",
   "metadata": {},
   "outputs": [
    {
     "data": {
      "text/plain": [
       "<tf.Tensor: shape=(3, 4), dtype=int32, numpy=\n",
       "array([[0, 0, 0, 0],\n",
       "       [0, 0, 0, 0],\n",
       "       [0, 0, 0, 0]], dtype=int32)>"
      ]
     },
     "execution_count": 10,
     "metadata": {},
     "output_type": "execute_result"
    }
   ],
   "source": [
    "tensor= tf.zeros(shape=[3,4],dtype=tf.int32)\n",
    "tensor"
   ]
  },
  {
   "cell_type": "code",
   "execution_count": 12,
   "id": "a2005895",
   "metadata": {},
   "outputs": [
    {
     "data": {
      "text/plain": [
       "<tf.Tensor: shape=(3, 4), dtype=float32, numpy=\n",
       "array([[1., 1., 1., 1.],\n",
       "       [1., 1., 1., 1.],\n",
       "       [1., 1., 1., 1.]], dtype=float32)>"
      ]
     },
     "execution_count": 12,
     "metadata": {},
     "output_type": "execute_result"
    }
   ],
   "source": [
    "tensor= tf.ones(shape=[3,4],dtype=tf.float32)\n",
    "tensor"
   ]
  },
  {
   "cell_type": "code",
   "execution_count": 14,
   "id": "d78d4d08",
   "metadata": {},
   "outputs": [
    {
     "data": {
      "text/plain": [
       "<tf.Tensor: shape=(4, 3), dtype=float32, numpy=\n",
       "array([[1., 1., 1.],\n",
       "       [1., 1., 1.],\n",
       "       [1., 1., 1.],\n",
       "       [1., 1., 1.]], dtype=float32)>"
      ]
     },
     "execution_count": 14,
     "metadata": {},
     "output_type": "execute_result"
    }
   ],
   "source": [
    "reshaped_tensor= tf.reshape(tensor=tensor,shape=[4,3])\n",
    "reshaped_tensor"
   ]
  },
  {
   "cell_type": "code",
   "execution_count": 15,
   "id": "e618070f",
   "metadata": {},
   "outputs": [
    {
     "data": {
      "text/plain": [
       "<tf.Tensor: shape=(3, 4), dtype=float32, numpy=\n",
       "array([[0.21341693, 0.865211  , 0.6025853 , 0.06460822],\n",
       "       [0.9703238 , 0.16219914, 0.5152004 , 0.87801456],\n",
       "       [0.8163692 , 0.71791077, 0.16242683, 0.31400526]], dtype=float32)>"
      ]
     },
     "execution_count": 15,
     "metadata": {},
     "output_type": "execute_result"
    }
   ],
   "source": [
    "tensor= tf.random.uniform(shape=[3,4])\n",
    "tensor"
   ]
  },
  {
   "cell_type": "code",
   "execution_count": 24,
   "id": "d236de70",
   "metadata": {},
   "outputs": [
    {
     "name": "stdout",
     "output_type": "stream",
     "text": [
      "tf.Tensor(\n",
      "[[4.6 4.2]\n",
      " [7.5 3.6]\n",
      " [2.7 9.4]\n",
      " [6.7 8.3]], shape=(4, 2), dtype=float32)\n",
      "tf.Tensor(\n",
      "[[4 4]\n",
      " [7 3]\n",
      " [2 9]\n",
      " [6 8]], shape=(4, 2), dtype=int32)\n"
     ]
    }
   ],
   "source": [
    "#typecast a tensor\n",
    "tensor=tf.constant([[4.6,4.2],\n",
    "                    [7.5,3.6],\n",
    "                    [2.7,9.4],\n",
    "                    [6.7,8.3]],dtype=tf.float32)\n",
    "tensor_as_int= tf.cast(tensor,tf.int32)\n",
    "print(tensor)\n",
    "print(tensor_as_int)"
   ]
  },
  {
   "cell_type": "code",
   "execution_count": 25,
   "id": "291f8b00",
   "metadata": {},
   "outputs": [
    {
     "data": {
      "text/plain": [
       "<tf.Tensor: shape=(2, 4), dtype=int32, numpy=\n",
       "array([[4, 7, 2, 6],\n",
       "       [4, 3, 9, 8]], dtype=int32)>"
      ]
     },
     "execution_count": 25,
     "metadata": {},
     "output_type": "execute_result"
    }
   ],
   "source": [
    "a= tf.transpose(tensor_as_int)\n",
    "a"
   ]
  },
  {
   "cell_type": "code",
   "execution_count": 28,
   "id": "6377678a",
   "metadata": {},
   "outputs": [
    {
     "data": {
      "text/plain": [
       "<tf.Tensor: shape=(2, 1), dtype=int32, numpy=\n",
       "array([[36],\n",
       "       [30]], dtype=int32)>"
      ]
     },
     "execution_count": 28,
     "metadata": {},
     "output_type": "execute_result"
    }
   ],
   "source": [
    "# MATRIX MULTIPLICATIONS\n",
    "A= tf.constant([[5,8],\n",
    "                [3,9]])\n",
    "V= tf.constant([[4],\n",
    "                [2]])\n",
    "AV= tf.matmul(A,V)\n",
    "AV"
   ]
  },
  {
   "cell_type": "code",
   "execution_count": 29,
   "id": "38825d73",
   "metadata": {},
   "outputs": [
    {
     "data": {
      "text/plain": [
       "<tf.Tensor: shape=(2, 2), dtype=int32, numpy=\n",
       "array([[20, 32],\n",
       "       [ 6, 18]], dtype=int32)>"
      ]
     },
     "execution_count": 29,
     "metadata": {},
     "output_type": "execute_result"
    }
   ],
   "source": [
    "#ELEMENT-WISE MULTIPLICATION\n",
    "AV= tf.multiply(A,V)\n",
    "AV"
   ]
  },
  {
   "cell_type": "code",
   "execution_count": 31,
   "id": "da675c8b",
   "metadata": {},
   "outputs": [
    {
     "name": "stdout",
     "output_type": "stream",
     "text": [
      "rows: 3 columns: 2\n"
     ]
    },
    {
     "data": {
      "text/plain": [
       "<tf.Tensor: shape=(3, 2), dtype=int32, numpy=\n",
       "array([[1, 0],\n",
       "       [0, 1],\n",
       "       [0, 0]], dtype=int32)>"
      ]
     },
     "execution_count": 31,
     "metadata": {},
     "output_type": "execute_result"
    }
   ],
   "source": [
    "#CREATING AN IDENTITY MATRIX\n",
    "A= tf.constant([[4,9],\n",
    "               [5,6],\n",
    "               [1,8]])\n",
    "rows,columns= A.shape\n",
    "print(\"rows:\",rows,\"columns:\",columns)\n",
    "\n",
    "#MAKING IDENTITY MATRIX\n",
    "A_identity= tf.eye(num_rows=rows,\n",
    "                  num_columns=columns,\n",
    "                  dtype=tf.int32)\n",
    "A_identity"
   ]
  },
  {
   "cell_type": "code",
   "execution_count": null,
   "id": "ca9deddc",
   "metadata": {},
   "outputs": [],
   "source": []
  }
 ],
 "metadata": {
  "kernelspec": {
   "display_name": "Python 3 (ipykernel)",
   "language": "python",
   "name": "python3"
  },
  "language_info": {
   "codemirror_mode": {
    "name": "ipython",
    "version": 3
   },
   "file_extension": ".py",
   "mimetype": "text/x-python",
   "name": "python",
   "nbconvert_exporter": "python",
   "pygments_lexer": "ipython3",
   "version": "3.9.7"
  }
 },
 "nbformat": 4,
 "nbformat_minor": 5
}
